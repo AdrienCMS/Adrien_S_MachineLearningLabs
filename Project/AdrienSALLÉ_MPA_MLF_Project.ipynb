{
  "nbformat": 4,
  "nbformat_minor": 0,
  "metadata": {
    "colab": {
      "provenance": []
    },
    "kernelspec": {
      "name": "python3",
      "display_name": "Python 3"
    },
    "language_info": {
      "name": "python"
    },
    "gpuClass": "standard",
    "accelerator": "GPU"
  },
  "cells": [
    {
      "cell_type": "markdown",
      "source": [
        "## Data examination & preprocessing"
      ],
      "metadata": {
        "id": "WyYnOIycpLVq"
      }
    },
    {
      "cell_type": "markdown",
      "source": [
        "***Examine what data types you have in your dataset. What preprocessing steps appear\n",
        "to be the best ones?***\n",
        "\n",
        "We have a set of 15360 samples to train with in the x_train dataset (with 15360 corresponding output in y_train dataset) and 3840 samples to test in the x_test dataset.\n",
        "\n",
        "There are eleven settings related to the  cfo_demod,gain_imb, iq_imb, or_off, quadr_err,m_power, ph_err, mag_err, evm, Tosc and Tmix.\n",
        "\n",
        "It appears that there is no missing data in the datasets, however some settings are not meant to be used *m_power*,*Tosc* and *Tmix*. Also the first line of the file is useless since the rows already have numbers as we works with datasets."
      ],
      "metadata": {
        "id": "QicPKkrYo03V"
      }
    },
    {
      "cell_type": "code",
      "execution_count": 1,
      "metadata": {
        "id": "VCvGPSYX8pbf",
        "colab": {
          "base_uri": "https://localhost:8080/"
        },
        "outputId": "ba8a02fa-2b5b-41e2-f78e-e10f5581bb46"
      },
      "outputs": [
        {
          "output_type": "stream",
          "name": "stdout",
          "text": [
            "Drive already mounted at /content/drive; to attempt to forcibly remount, call drive.mount(\"/content/drive\", force_remount=True).\n"
          ]
        }
      ],
      "source": [
        "# Libraries import\n",
        "import pandas as pd\n",
        "import numpy as np\n",
        "from tensorflow.keras.models import Sequential\n",
        "from tensorflow.keras.layers import *\n",
        "from tensorflow.keras import regularizers\n",
        "from sklearn.preprocessing import StandardScaler\n",
        "import tensorflow as tf\n",
        "import matplotlib.pyplot as plt\n",
        "from google.colab import drive\n",
        "drive.mount('/content/drive')"
      ]
    },
    {
      "cell_type": "markdown",
      "source": [
        "Here we put the settings we want to keep on our datasets."
      ],
      "metadata": {
        "id": "1_WcC7pCe749"
      }
    },
    {
      "cell_type": "code",
      "source": [
        "settingsToKeep = ['cfo_demod','gain_imb', 'iq_imb', 'or_off', 'mag_err', 'evm']"
      ],
      "metadata": {
        "id": "2JmYMaeNpLu3"
      },
      "execution_count": 2,
      "outputs": []
    },
    {
      "cell_type": "code",
      "execution_count": 3,
      "metadata": {
        "id": "AqSVkJc8_f4R",
        "colab": {
          "base_uri": "https://localhost:8080/"
        },
        "outputId": "ea5906e0-7e9b-414e-a1f7-f725da1c84db"
      },
      "outputs": [
        {
          "output_type": "execute_result",
          "data": {
            "text/plain": [
              "array([[ 2.34714632,  0.08636303,  0.02495416,  0.68652593, -0.34392118,\n",
              "        -0.52376808],\n",
              "       [ 0.65597331, -1.37102929,  0.97251284, -1.25700335,  0.97177619,\n",
              "         0.78185721],\n",
              "       [-0.50876926, -0.16439694,  0.57588633, -0.21162897,  0.33049254,\n",
              "         0.22060814],\n",
              "       ...,\n",
              "       [-0.5857458 ,  1.00141456, -0.6888456 ,  0.80705524, -0.95084127,\n",
              "        -1.13500369],\n",
              "       [-1.51889251,  1.19579124, -0.79609402,  0.88550779, -1.01728875,\n",
              "        -1.02611569],\n",
              "       [ 2.00239394,  0.52558192,  0.0477114 ,  0.74417007, -0.32267748,\n",
              "        -0.60710367]])"
            ]
          },
          "metadata": {},
          "execution_count": 3
        }
      ],
      "source": [
        "path_to_dataset = '/content/drive/MyDrive/Colab Notebooks/x_train.csv' # change the PATH\n",
        "x_train_dataset = pd.read_csv(path_to_dataset)\n",
        "path_to_dataset = '/content/drive/MyDrive/Colab Notebooks/y_train.csv' # change the PATH\n",
        "y_train_dataset = pd.read_csv(path_to_dataset)\n",
        "path_to_dataset = '/content/drive/MyDrive/Colab Notebooks/x_test.csv' # change the PATH\n",
        "x_test_dataset = pd.read_csv(path_to_dataset)\n",
        "\n",
        "# create scaler\n",
        "scaler = StandardScaler()\n",
        "\n",
        "x_test_dataset =scaler.fit_transform(x_test_dataset[settingsToKeep])\n",
        "x_train_dataset = scaler.fit_transform(x_train_dataset[settingsToKeep])\n",
        "x_train_dataset\n"
      ]
    },
    {
      "cell_type": "code",
      "source": [
        "y_train_dataset_coded = tf.keras.utils.to_categorical(y_train_dataset.iloc[: , 1:].to_numpy().reshape(1,-1)[0]-1)\n",
        "y_train_dataset = scaler.fit_transform(pd.DataFrame(y_train_dataset_coded))"
      ],
      "metadata": {
        "id": "BwWlRL1-KWSH"
      },
      "execution_count": 4,
      "outputs": []
    },
    {
      "cell_type": "markdown",
      "source": [
        "## Model building & training"
      ],
      "metadata": {
        "id": "RrbNqFL6pMLP"
      }
    },
    {
      "cell_type": "markdown",
      "source": [
        "## Creation and compilation of the model"
      ],
      "metadata": {
        "id": "FFHZ5AQBj9uK"
      }
    },
    {
      "cell_type": "code",
      "source": [
        "model = Sequential()\n",
        "model.add(Dense(64, input_dim=6, activation='relu'))\n",
        "model.add(Dense(64, activation='relu'))\n",
        "model.add(Dense(8, activation='softmax'))\n",
        "\n",
        "optimizer = tf.keras.optimizers.Adam(learning_rate=0.001)\n",
        "\n",
        "model.compile(loss='categorical_crossentropy', optimizer=optimizer, metrics=['accuracy'])\n",
        "\n",
        "model.summary()"
      ],
      "metadata": {
        "colab": {
          "base_uri": "https://localhost:8080/"
        },
        "id": "-It4OPDjfhA4",
        "outputId": "899a819e-3ed0-49d4-eb89-2048a3cdd2c5"
      },
      "execution_count": 5,
      "outputs": [
        {
          "output_type": "stream",
          "name": "stdout",
          "text": [
            "Model: \"sequential\"\n",
            "_________________________________________________________________\n",
            " Layer (type)                Output Shape              Param #   \n",
            "=================================================================\n",
            " dense (Dense)               (None, 64)                448       \n",
            "                                                                 \n",
            " dense_1 (Dense)             (None, 64)                4160      \n",
            "                                                                 \n",
            " dense_2 (Dense)             (None, 8)                 520       \n",
            "                                                                 \n",
            "=================================================================\n",
            "Total params: 5,128\n",
            "Trainable params: 5,128\n",
            "Non-trainable params: 0\n",
            "_________________________________________________________________\n"
          ]
        }
      ]
    },
    {
      "cell_type": "code",
      "source": [
        "history = model.fit(x_train_dataset,y_train_dataset, epochs=120, batch_size=128,verbose=1 )"
      ],
      "metadata": {
        "colab": {
          "base_uri": "https://localhost:8080/"
        },
        "id": "F-LDekWzkQ16",
        "outputId": "52379737-fe8d-460e-9121-eaddaca713ec"
      },
      "execution_count": 6,
      "outputs": [
        {
          "output_type": "stream",
          "name": "stdout",
          "text": [
            "Epoch 1/120\n",
            "120/120 [==============================] - 5s 6ms/step - loss: -15.8679 - accuracy: 0.5129\n",
            "Epoch 2/120\n",
            "120/120 [==============================] - 1s 6ms/step - loss: -311.5954 - accuracy: 0.4576\n",
            "Epoch 3/120\n",
            "120/120 [==============================] - 1s 6ms/step - loss: -1814.5204 - accuracy: 0.4021\n",
            "Epoch 4/120\n",
            "120/120 [==============================] - 1s 5ms/step - loss: -5710.4673 - accuracy: 0.3766\n",
            "Epoch 5/120\n",
            "120/120 [==============================] - 1s 5ms/step - loss: -13011.2998 - accuracy: 0.3720\n",
            "Epoch 6/120\n",
            "120/120 [==============================] - 1s 6ms/step - loss: -24566.6230 - accuracy: 0.3192\n",
            "Epoch 7/120\n",
            "120/120 [==============================] - 1s 4ms/step - loss: -40926.8555 - accuracy: 0.3335\n",
            "Epoch 8/120\n",
            "120/120 [==============================] - 1s 7ms/step - loss: -62712.4531 - accuracy: 0.2816\n",
            "Epoch 9/120\n",
            "120/120 [==============================] - 1s 10ms/step - loss: -90159.6797 - accuracy: 0.3092\n",
            "Epoch 10/120\n",
            "120/120 [==============================] - 1s 10ms/step - loss: -123817.1562 - accuracy: 0.3022\n",
            "Epoch 11/120\n",
            "120/120 [==============================] - 1s 8ms/step - loss: -164049.9375 - accuracy: 0.2814\n",
            "Epoch 12/120\n",
            "120/120 [==============================] - 1s 7ms/step - loss: -211118.7188 - accuracy: 0.2887\n",
            "Epoch 13/120\n",
            "120/120 [==============================] - 1s 6ms/step - loss: -265369.2188 - accuracy: 0.2760\n",
            "Epoch 14/120\n",
            "120/120 [==============================] - 1s 5ms/step - loss: -327151.9062 - accuracy: 0.2701\n",
            "Epoch 15/120\n",
            "120/120 [==============================] - 1s 5ms/step - loss: -396630.3125 - accuracy: 0.2589\n",
            "Epoch 16/120\n",
            "120/120 [==============================] - 1s 7ms/step - loss: -474100.3750 - accuracy: 0.2679\n",
            "Epoch 17/120\n",
            "120/120 [==============================] - 1s 5ms/step - loss: -559907.6250 - accuracy: 0.2600\n",
            "Epoch 18/120\n",
            "120/120 [==============================] - 0s 3ms/step - loss: -654130.5625 - accuracy: 0.2717\n",
            "Epoch 19/120\n",
            "120/120 [==============================] - 0s 3ms/step - loss: -757377.6250 - accuracy: 0.2834\n",
            "Epoch 20/120\n",
            "120/120 [==============================] - 0s 3ms/step - loss: -869731.6875 - accuracy: 0.2794\n",
            "Epoch 21/120\n",
            "120/120 [==============================] - 0s 3ms/step - loss: -991118.6250 - accuracy: 0.2779\n",
            "Epoch 22/120\n",
            "120/120 [==============================] - 0s 3ms/step - loss: -1121532.7500 - accuracy: 0.2816\n",
            "Epoch 23/120\n",
            "120/120 [==============================] - 0s 3ms/step - loss: -1261360.5000 - accuracy: 0.2986\n",
            "Epoch 24/120\n",
            "120/120 [==============================] - 0s 3ms/step - loss: -1410564.8750 - accuracy: 0.2736\n",
            "Epoch 25/120\n",
            "120/120 [==============================] - 0s 3ms/step - loss: -1569196.8750 - accuracy: 0.2787\n",
            "Epoch 26/120\n",
            "120/120 [==============================] - 0s 3ms/step - loss: -1737474.2500 - accuracy: 0.2726\n",
            "Epoch 27/120\n",
            "120/120 [==============================] - 0s 3ms/step - loss: -1915451.7500 - accuracy: 0.2812\n",
            "Epoch 28/120\n",
            "120/120 [==============================] - 0s 3ms/step - loss: -2103428.7500 - accuracy: 0.2760\n",
            "Epoch 29/120\n",
            "120/120 [==============================] - 0s 3ms/step - loss: -2301314.2500 - accuracy: 0.2695\n",
            "Epoch 30/120\n",
            "120/120 [==============================] - 0s 3ms/step - loss: -2509231.7500 - accuracy: 0.2791\n",
            "Epoch 31/120\n",
            "120/120 [==============================] - 0s 3ms/step - loss: -2727629.2500 - accuracy: 0.2916\n",
            "Epoch 32/120\n",
            "120/120 [==============================] - 0s 3ms/step - loss: -2956355.7500 - accuracy: 0.2741\n",
            "Epoch 33/120\n",
            "120/120 [==============================] - 0s 3ms/step - loss: -3195602.5000 - accuracy: 0.2717\n",
            "Epoch 34/120\n",
            "120/120 [==============================] - 0s 3ms/step - loss: -3445436.2500 - accuracy: 0.2691\n",
            "Epoch 35/120\n",
            "120/120 [==============================] - 0s 3ms/step - loss: -3705972.5000 - accuracy: 0.2777\n",
            "Epoch 36/120\n",
            "120/120 [==============================] - 1s 5ms/step - loss: -3977255.5000 - accuracy: 0.2639\n",
            "Epoch 37/120\n",
            "120/120 [==============================] - 0s 4ms/step - loss: -4259341.0000 - accuracy: 0.2695\n",
            "Epoch 38/120\n",
            "120/120 [==============================] - 1s 5ms/step - loss: -4552533.0000 - accuracy: 0.2855\n",
            "Epoch 39/120\n",
            "120/120 [==============================] - 1s 6ms/step - loss: -4857040.5000 - accuracy: 0.2742\n",
            "Epoch 40/120\n",
            "120/120 [==============================] - 1s 5ms/step - loss: -5173053.0000 - accuracy: 0.2795\n",
            "Epoch 41/120\n",
            "120/120 [==============================] - 1s 4ms/step - loss: -5500270.0000 - accuracy: 0.2809\n",
            "Epoch 42/120\n",
            "120/120 [==============================] - 0s 4ms/step - loss: -5839623.0000 - accuracy: 0.2735\n",
            "Epoch 43/120\n",
            "120/120 [==============================] - 0s 4ms/step - loss: -6190421.0000 - accuracy: 0.2833\n",
            "Epoch 44/120\n",
            "120/120 [==============================] - 0s 3ms/step - loss: -6553281.5000 - accuracy: 0.2768\n",
            "Epoch 45/120\n",
            "120/120 [==============================] - 0s 3ms/step - loss: -6928009.5000 - accuracy: 0.2775\n",
            "Epoch 46/120\n",
            "120/120 [==============================] - 0s 3ms/step - loss: -7314657.5000 - accuracy: 0.2645\n",
            "Epoch 47/120\n",
            "120/120 [==============================] - 0s 3ms/step - loss: -7713563.0000 - accuracy: 0.2743\n",
            "Epoch 48/120\n",
            "120/120 [==============================] - 0s 3ms/step - loss: -8124711.5000 - accuracy: 0.2702\n",
            "Epoch 49/120\n",
            "120/120 [==============================] - 0s 3ms/step - loss: -8548622.0000 - accuracy: 0.2688\n",
            "Epoch 50/120\n",
            "120/120 [==============================] - 0s 3ms/step - loss: -8984933.0000 - accuracy: 0.2650\n",
            "Epoch 51/120\n",
            "120/120 [==============================] - 0s 3ms/step - loss: -9433634.0000 - accuracy: 0.2757\n",
            "Epoch 52/120\n",
            "120/120 [==============================] - 0s 3ms/step - loss: -9895427.0000 - accuracy: 0.2799\n",
            "Epoch 53/120\n",
            "120/120 [==============================] - 0s 3ms/step - loss: -10370817.0000 - accuracy: 0.2777\n",
            "Epoch 54/120\n",
            "120/120 [==============================] - 0s 3ms/step - loss: -10858475.0000 - accuracy: 0.2723\n",
            "Epoch 55/120\n",
            "120/120 [==============================] - 0s 3ms/step - loss: -11359906.0000 - accuracy: 0.2760\n",
            "Epoch 56/120\n",
            "120/120 [==============================] - 0s 3ms/step - loss: -11874770.0000 - accuracy: 0.2725\n",
            "Epoch 57/120\n",
            "120/120 [==============================] - 0s 3ms/step - loss: -12402778.0000 - accuracy: 0.2772\n",
            "Epoch 58/120\n",
            "120/120 [==============================] - 0s 3ms/step - loss: -12944546.0000 - accuracy: 0.2800\n",
            "Epoch 59/120\n",
            "120/120 [==============================] - 0s 3ms/step - loss: -13500278.0000 - accuracy: 0.2796\n",
            "Epoch 60/120\n",
            "120/120 [==============================] - 0s 3ms/step - loss: -14070085.0000 - accuracy: 0.2788\n",
            "Epoch 61/120\n",
            "120/120 [==============================] - 0s 3ms/step - loss: -14653589.0000 - accuracy: 0.2783\n",
            "Epoch 62/120\n",
            "120/120 [==============================] - 0s 3ms/step - loss: -15251655.0000 - accuracy: 0.2745\n",
            "Epoch 63/120\n",
            "120/120 [==============================] - 0s 3ms/step - loss: -15864211.0000 - accuracy: 0.2579\n",
            "Epoch 64/120\n",
            "120/120 [==============================] - 0s 3ms/step - loss: -16490742.0000 - accuracy: 0.2789\n",
            "Epoch 65/120\n",
            "120/120 [==============================] - 0s 3ms/step - loss: -17131744.0000 - accuracy: 0.2727\n",
            "Epoch 66/120\n",
            "120/120 [==============================] - 0s 3ms/step - loss: -17787720.0000 - accuracy: 0.2716\n",
            "Epoch 67/120\n",
            "120/120 [==============================] - 0s 3ms/step - loss: -18458660.0000 - accuracy: 0.2577\n",
            "Epoch 68/120\n",
            "120/120 [==============================] - 0s 3ms/step - loss: -19143718.0000 - accuracy: 0.2656\n",
            "Epoch 69/120\n",
            "120/120 [==============================] - 0s 3ms/step - loss: -19843658.0000 - accuracy: 0.2691\n",
            "Epoch 70/120\n",
            "120/120 [==============================] - 0s 3ms/step - loss: -20558610.0000 - accuracy: 0.2681\n",
            "Epoch 71/120\n",
            "120/120 [==============================] - 1s 4ms/step - loss: -21289538.0000 - accuracy: 0.2572\n",
            "Epoch 72/120\n",
            "120/120 [==============================] - 1s 5ms/step - loss: -22035690.0000 - accuracy: 0.2738\n",
            "Epoch 73/120\n",
            "120/120 [==============================] - 1s 4ms/step - loss: -22797508.0000 - accuracy: 0.2637\n",
            "Epoch 74/120\n",
            "120/120 [==============================] - 1s 5ms/step - loss: -23574584.0000 - accuracy: 0.2579\n",
            "Epoch 75/120\n",
            "120/120 [==============================] - 1s 4ms/step - loss: -24366584.0000 - accuracy: 0.2750\n",
            "Epoch 76/120\n",
            "120/120 [==============================] - 1s 4ms/step - loss: -25175226.0000 - accuracy: 0.2636\n",
            "Epoch 77/120\n",
            "120/120 [==============================] - 1s 4ms/step - loss: -25999852.0000 - accuracy: 0.2696\n",
            "Epoch 78/120\n",
            "120/120 [==============================] - 0s 4ms/step - loss: -26840598.0000 - accuracy: 0.2620\n",
            "Epoch 79/120\n",
            "120/120 [==============================] - 0s 3ms/step - loss: -27696832.0000 - accuracy: 0.2680\n",
            "Epoch 80/120\n",
            "120/120 [==============================] - 0s 3ms/step - loss: -28569902.0000 - accuracy: 0.2696\n",
            "Epoch 81/120\n",
            "120/120 [==============================] - 0s 3ms/step - loss: -29459740.0000 - accuracy: 0.2614\n",
            "Epoch 82/120\n",
            "120/120 [==============================] - 0s 3ms/step - loss: -30366152.0000 - accuracy: 0.2587\n",
            "Epoch 83/120\n",
            "120/120 [==============================] - 0s 3ms/step - loss: -31289568.0000 - accuracy: 0.2666\n",
            "Epoch 84/120\n",
            "120/120 [==============================] - 0s 3ms/step - loss: -32229912.0000 - accuracy: 0.2704\n",
            "Epoch 85/120\n",
            "120/120 [==============================] - 0s 3ms/step - loss: -33187788.0000 - accuracy: 0.2755\n",
            "Epoch 86/120\n",
            "120/120 [==============================] - 0s 3ms/step - loss: -34163472.0000 - accuracy: 0.2686\n",
            "Epoch 87/120\n",
            "120/120 [==============================] - 0s 3ms/step - loss: -35157788.0000 - accuracy: 0.2735\n",
            "Epoch 88/120\n",
            "120/120 [==============================] - 0s 3ms/step - loss: -36168556.0000 - accuracy: 0.2691\n",
            "Epoch 89/120\n",
            "120/120 [==============================] - 0s 3ms/step - loss: -37196888.0000 - accuracy: 0.2596\n",
            "Epoch 90/120\n",
            "120/120 [==============================] - 0s 3ms/step - loss: -38243748.0000 - accuracy: 0.2514\n",
            "Epoch 91/120\n",
            "120/120 [==============================] - 0s 3ms/step - loss: -39307364.0000 - accuracy: 0.2630\n",
            "Epoch 92/120\n",
            "120/120 [==============================] - 0s 3ms/step - loss: -40388440.0000 - accuracy: 0.2620\n",
            "Epoch 93/120\n",
            "120/120 [==============================] - 0s 3ms/step - loss: -41487620.0000 - accuracy: 0.2632\n",
            "Epoch 94/120\n",
            "120/120 [==============================] - 0s 3ms/step - loss: -42605004.0000 - accuracy: 0.2682\n",
            "Epoch 95/120\n",
            "120/120 [==============================] - 0s 3ms/step - loss: -43741148.0000 - accuracy: 0.2693\n",
            "Epoch 96/120\n",
            "120/120 [==============================] - 0s 3ms/step - loss: -44896624.0000 - accuracy: 0.2676\n",
            "Epoch 97/120\n",
            "120/120 [==============================] - 0s 3ms/step - loss: -46070236.0000 - accuracy: 0.2654\n",
            "Epoch 98/120\n",
            "120/120 [==============================] - 0s 3ms/step - loss: -47261896.0000 - accuracy: 0.2628\n",
            "Epoch 99/120\n",
            "120/120 [==============================] - 0s 3ms/step - loss: -48473372.0000 - accuracy: 0.2655\n",
            "Epoch 100/120\n",
            "120/120 [==============================] - 0s 3ms/step - loss: -49703224.0000 - accuracy: 0.2559\n",
            "Epoch 101/120\n",
            "120/120 [==============================] - 0s 3ms/step - loss: -50952076.0000 - accuracy: 0.2678\n",
            "Epoch 102/120\n",
            "120/120 [==============================] - 0s 3ms/step - loss: -52220628.0000 - accuracy: 0.2665\n",
            "Epoch 103/120\n",
            "120/120 [==============================] - 0s 3ms/step - loss: -53508316.0000 - accuracy: 0.2617\n",
            "Epoch 104/120\n",
            "120/120 [==============================] - 0s 3ms/step - loss: -54815360.0000 - accuracy: 0.2619\n",
            "Epoch 105/120\n",
            "120/120 [==============================] - 0s 3ms/step - loss: -56141628.0000 - accuracy: 0.2650\n",
            "Epoch 106/120\n",
            "120/120 [==============================] - 1s 5ms/step - loss: -57487928.0000 - accuracy: 0.2649\n",
            "Epoch 107/120\n",
            "120/120 [==============================] - 1s 5ms/step - loss: -58854444.0000 - accuracy: 0.2553\n",
            "Epoch 108/120\n",
            "120/120 [==============================] - 1s 4ms/step - loss: -60240660.0000 - accuracy: 0.2625\n",
            "Epoch 109/120\n",
            "120/120 [==============================] - 1s 5ms/step - loss: -61646460.0000 - accuracy: 0.2612\n",
            "Epoch 110/120\n",
            "120/120 [==============================] - 0s 4ms/step - loss: -63073288.0000 - accuracy: 0.2592\n",
            "Epoch 111/120\n",
            "120/120 [==============================] - 1s 4ms/step - loss: -64521160.0000 - accuracy: 0.2661\n",
            "Epoch 112/120\n",
            "120/120 [==============================] - 1s 5ms/step - loss: -65989684.0000 - accuracy: 0.2557\n",
            "Epoch 113/120\n",
            "120/120 [==============================] - 1s 4ms/step - loss: -67478016.0000 - accuracy: 0.2730\n",
            "Epoch 114/120\n",
            "120/120 [==============================] - 0s 3ms/step - loss: -68987736.0000 - accuracy: 0.2570\n",
            "Epoch 115/120\n",
            "120/120 [==============================] - 0s 3ms/step - loss: -70518936.0000 - accuracy: 0.2613\n",
            "Epoch 116/120\n",
            "120/120 [==============================] - 0s 3ms/step - loss: -72070648.0000 - accuracy: 0.2729\n",
            "Epoch 117/120\n",
            "120/120 [==============================] - 0s 3ms/step - loss: -73644576.0000 - accuracy: 0.2755\n",
            "Epoch 118/120\n",
            "120/120 [==============================] - 0s 3ms/step - loss: -75240280.0000 - accuracy: 0.2635\n",
            "Epoch 119/120\n",
            "120/120 [==============================] - 0s 3ms/step - loss: -76856408.0000 - accuracy: 0.2585\n",
            "Epoch 120/120\n",
            "120/120 [==============================] - 0s 3ms/step - loss: -78494128.0000 - accuracy: 0.2694\n"
          ]
        }
      ]
    },
    {
      "cell_type": "markdown",
      "source": [
        "## Model evaluation\n"
      ],
      "metadata": {
        "id": "BgXBCg_Tprlh"
      }
    },
    {
      "cell_type": "code",
      "source": [
        "loss, accuracy = model.evaluate(x_train_dataset,y_train_dataset, verbose=0)\n",
        "print('Accuracy: {:.2f}'.format(accuracy*100))\n",
        "loss"
      ],
      "metadata": {
        "id": "5_XPBdbHpw7K",
        "colab": {
          "base_uri": "https://localhost:8080/"
        },
        "outputId": "b95ab532-9a9e-4e24-a785-9658d2667a7b"
      },
      "execution_count": 7,
      "outputs": [
        {
          "output_type": "stream",
          "name": "stdout",
          "text": [
            "Accuracy: 27.78\n"
          ]
        },
        {
          "output_type": "execute_result",
          "data": {
            "text/plain": [
              "-79328040.0"
            ]
          },
          "metadata": {},
          "execution_count": 7
        }
      ]
    },
    {
      "cell_type": "code",
      "source": [
        "plt.figure()\n",
        "plt.plot(history.history['accuracy'])\n",
        "plt.xlabel('n epoch')\n",
        "plt.ylabel('accuracy')"
      ],
      "metadata": {
        "id": "ONm9wj8QrEFz",
        "colab": {
          "base_uri": "https://localhost:8080/",
          "height": 466
        },
        "outputId": "8b635d49-e63e-4330-a2bc-1b23895ab56b"
      },
      "execution_count": 8,
      "outputs": [
        {
          "output_type": "execute_result",
          "data": {
            "text/plain": [
              "Text(0, 0.5, 'accuracy')"
            ]
          },
          "metadata": {},
          "execution_count": 8
        },
        {
          "output_type": "display_data",
          "data": {
            "text/plain": [
              "<Figure size 640x480 with 1 Axes>"
            ],
            "image/png": "[encoded data removed]"
          },
          "metadata": {}
        }
      ]
    },
    {
      "cell_type": "code",
      "execution_count": 9,
      "metadata": {
        "id": "1SAkMeD4yA5x",
        "colab": {
          "base_uri": "https://localhost:8080/",
          "height": 482
        },
        "outputId": "700ce870-65f3-46b9-c0ee-7668a7f426bc"
      },
      "outputs": [
        {
          "output_type": "execute_result",
          "data": {
            "text/plain": [
              "Text(0, 0.5, 'loss')"
            ]
          },
          "metadata": {},
          "execution_count": 9
        },
        {
          "output_type": "display_data",
          "data": {
            "text/plain": [
              "<Figure size 640x480 with 1 Axes>"
            ],
            "image/png": "[encoded data removed]"
          },
          "metadata": {}
        }
      ],
      "source": [
        "plt.figure()\n",
        "plt.plot(history.history['loss'])\n",
        "plt.xlabel('n epochs')\n",
        "plt.ylabel('loss')"
      ]
    },
    {
      "cell_type": "markdown",
      "source": [
        "## Prediction & Export\n"
      ],
      "metadata": {
        "id": "daky3Dsf0wuM"
      }
    },
    {
      "cell_type": "code",
      "source": [
        "y_test = model.predict(x_test_dataset)\n",
        "#Flattening the array\n",
        "y_test_flatten = np.argmax(y_test,axis=1)\n",
        "#Convert to dataset\n",
        "y_test_dataFrame = pd.DataFrame(y_test_flatten, columns = ['target'])\n",
        "\n",
        "for x in y_test_dataFrame:\n",
        "  y_test_dataFrame[x]+=1\n",
        "\n",
        "y_test_dataFrame.to_csv('/content/drive/MyDrive/Colab Notebooks/prediction.csv',index_label='id' )\n",
        "tf.keras.utils.plot_model(model, to_file='/content/drive/MyDrive/Colab Notebooks/current_model.png', show_shapes=True,    show_layer_activations=True)\n",
        "\n",
        "\n",
        "#y_test"
      ],
      "metadata": {
        "id": "1M1kf0oL00tT",
        "colab": {
          "base_uri": "https://localhost:8080/",
          "height": 439
        },
        "outputId": "8cddb860-74b0-4812-f9f9-9f3d45049625"
      },
      "execution_count": 10,
      "outputs": [
        {
          "output_type": "stream",
          "name": "stdout",
          "text": [
            "120/120 [==============================] - 0s 2ms/step\n"
          ]
        },
        {
          "output_type": "execute_result",
          "data": {
            "image/png": "[encoded data removed]",
            "text/plain": [
              "<IPython.core.display.Image object>"
            ]
          },
          "metadata": {},
          "execution_count": 10
        }
      ]
    },
    {
      "cell_type": "code",
      "source": [
        "pd.DataFrame(y_test)"
      ],
      "metadata": {
        "id": "nC4wfmQKTnni",
        "colab": {
          "base_uri": "https://localhost:8080/",
          "height": 424
        },
        "outputId": "9fd4119c-e70f-47e4-bdc3-e4d4dfe0cc87"
      },
      "execution_count": 11,
      "outputs": [
        {
          "output_type": "execute_result",
          "data": {
            "text/plain": [
              "             0    1         2         3    4         5    6    7\n",
              "0     0.000000  0.0  0.999569  0.000431  0.0  0.000000  0.0  0.0\n",
              "1     0.000000  0.0  1.000000  0.000000  0.0  0.000000  0.0  0.0\n",
              "2     0.000000  0.0  0.999942  0.000058  0.0  0.000000  0.0  0.0\n",
              "3     1.000000  0.0  0.000000  0.000000  0.0  0.000000  0.0  0.0\n",
              "4     0.006693  0.0  0.000000  0.000000  0.0  0.993307  0.0  0.0\n",
              "...        ...  ...       ...       ...  ...       ...  ...  ...\n",
              "3835  0.000000  0.0  0.000000  0.000000  0.0  0.000000  1.0  0.0\n",
              "3836  1.000000  0.0  0.000000  0.000000  0.0  0.000000  0.0  0.0\n",
              "3837  1.000000  0.0  0.000000  0.000000  0.0  0.000000  0.0  0.0\n",
              "3838  0.000000  0.0  0.000000  0.000000  0.0  0.000000  1.0  0.0\n",
              "3839  1.000000  0.0  0.000000  0.000000  0.0  0.000000  0.0  0.0\n",
              "\n",
              "[3840 rows x 8 columns]"
            ],
            "text/html": [
              "\n",
              "  <div id=\"df-3145e182-2927-4ccf-93fe-0dca35d91a07\">\n",
              "    <div class=\"colab-df-container\">\n",
              "      <div>\n",
              "<style scoped>\n",
              "    .dataframe tbody tr th:only-of-type {\n",
              "        vertical-align: middle;\n",
              "    }\n",
              "\n",
              "    .dataframe tbody tr th {\n",
              "        vertical-align: top;\n",
              "    }\n",
              "\n",
              "    .dataframe thead th {\n",
              "        text-align: right;\n",
              "    }\n",
              "</style>\n",
              "<table border=\"1\" class=\"dataframe\">\n",
              "  <thead>\n",
              "    <tr style=\"text-align: right;\">\n",
              "      <th></th>\n",
              "      <th>0</th>\n",
              "      <th>1</th>\n",
              "      <th>2</th>\n",
              "      <th>3</th>\n",
              "      <th>4</th>\n",
              "      <th>5</th>\n",
              "      <th>6</th>\n",
              "      <th>7</th>\n",
              "    </tr>\n",
              "  </thead>\n",
              "  <tbody>\n",
              "    <tr>\n",
              "      <th>0</th>\n",
              "      <td>0.000000</td>\n",
              "      <td>0.0</td>\n",
              "      <td>0.999569</td>\n",
              "      <td>0.000431</td>\n",
              "      <td>0.0</td>\n",
              "      <td>0.000000</td>\n",
              "      <td>0.0</td>\n",
              "      <td>0.0</td>\n",
              "    </tr>\n",
              "    <tr>\n",
              "      <th>1</th>\n",
              "      <td>0.000000</td>\n",
              "      <td>0.0</td>\n",
              "      <td>1.000000</td>\n",
              "      <td>0.000000</td>\n",
              "      <td>0.0</td>\n",
              "      <td>0.000000</td>\n",
              "      <td>0.0</td>\n",
              "      <td>0.0</td>\n",
              "    </tr>\n",
              "    <tr>\n",
              "      <th>2</th>\n",
              "      <td>0.000000</td>\n",
              "      <td>0.0</td>\n",
              "      <td>0.999942</td>\n",
              "      <td>0.000058</td>\n",
              "      <td>0.0</td>\n",
              "      <td>0.000000</td>\n",
              "      <td>0.0</td>\n",
              "      <td>0.0</td>\n",
              "    </tr>\n",
              "    <tr>\n",
              "      <th>3</th>\n",
              "      <td>1.000000</td>\n",
              "      <td>0.0</td>\n",
              "      <td>0.000000</td>\n",
              "      <td>0.000000</td>\n",
              "      <td>0.0</td>\n",
              "      <td>0.000000</td>\n",
              "      <td>0.0</td>\n",
              "      <td>0.0</td>\n",
              "    </tr>\n",
              "    <tr>\n",
              "      <th>4</th>\n",
              "      <td>0.006693</td>\n",
              "      <td>0.0</td>\n",
              "      <td>0.000000</td>\n",
              "      <td>0.000000</td>\n",
              "      <td>0.0</td>\n",
              "      <td>0.993307</td>\n",
              "      <td>0.0</td>\n",
              "      <td>0.0</td>\n",
              "    </tr>\n",
              "    <tr>\n",
              "      <th>...</th>\n",
              "      <td>...</td>\n",
              "      <td>...</td>\n",
              "      <td>...</td>\n",
              "      <td>...</td>\n",
              "      <td>...</td>\n",
              "      <td>...</td>\n",
              "      <td>...</td>\n",
              "      <td>...</td>\n",
              "    </tr>\n",
              "    <tr>\n",
              "      <th>3835</th>\n",
              "      <td>0.000000</td>\n",
              "      <td>0.0</td>\n",
              "      <td>0.000000</td>\n",
              "      <td>0.000000</td>\n",
              "      <td>0.0</td>\n",
              "      <td>0.000000</td>\n",
              "      <td>1.0</td>\n",
              "      <td>0.0</td>\n",
              "    </tr>\n",
              "    <tr>\n",
              "      <th>3836</th>\n",
              "      <td>1.000000</td>\n",
              "      <td>0.0</td>\n",
              "      <td>0.000000</td>\n",
              "      <td>0.000000</td>\n",
              "      <td>0.0</td>\n",
              "      <td>0.000000</td>\n",
              "      <td>0.0</td>\n",
              "      <td>0.0</td>\n",
              "    </tr>\n",
              "    <tr>\n",
              "      <th>3837</th>\n",
              "      <td>1.000000</td>\n",
              "      <td>0.0</td>\n",
              "      <td>0.000000</td>\n",
              "      <td>0.000000</td>\n",
              "      <td>0.0</td>\n",
              "      <td>0.000000</td>\n",
              "      <td>0.0</td>\n",
              "      <td>0.0</td>\n",
              "    </tr>\n",
              "    <tr>\n",
              "      <th>3838</th>\n",
              "      <td>0.000000</td>\n",
              "      <td>0.0</td>\n",
              "      <td>0.000000</td>\n",
              "      <td>0.000000</td>\n",
              "      <td>0.0</td>\n",
              "      <td>0.000000</td>\n",
              "      <td>1.0</td>\n",
              "      <td>0.0</td>\n",
              "    </tr>\n",
              "    <tr>\n",
              "      <th>3839</th>\n",
              "      <td>1.000000</td>\n",
              "      <td>0.0</td>\n",
              "      <td>0.000000</td>\n",
              "      <td>0.000000</td>\n",
              "      <td>0.0</td>\n",
              "      <td>0.000000</td>\n",
              "      <td>0.0</td>\n",
              "      <td>0.0</td>\n",
              "    </tr>\n",
              "  </tbody>\n",
              "</table>\n",
              "<p>3840 rows × 8 columns</p>\n",
              "</div>\n",
              "      <button class=\"colab-df-convert\" onclick=\"convertToInteractive('df-3145e182-2927-4ccf-93fe-0dca35d91a07')\"\n",
              "              title=\"Convert this dataframe to an interactive table.\"\n",
              "              style=\"display:none;\">\n",
              "        \n",
              "  <svg xmlns=\"http://www.w3.org/2000/svg\" height=\"24px\"viewBox=\"0 0 24 24\"\n",
              "       width=\"24px\">\n",
              "    <path d=\"M0 0h24v24H0V0z\" fill=\"none\"/>\n",
              "    <path d=\"M18.56 5.44l.94 2.06.94-2.06 2.06-.94-2.06-.94-.94-2.06-.94 2.06-2.06.94zm-11 1L8.5 8.5l.94-2.06 2.06-.94-2.06-.94L8.5 2.5l-.94 2.06-2.06.94zm10 10l.94 2.06.94-2.06 2.06-.94-2.06-.94-.94-2.06-.94 2.06-2.06.94z\"/><path d=\"M17.41 7.96l-1.37-1.37c-.4-.4-.92-.59-1.43-.59-.52 0-1.04.2-1.43.59L10.3 9.45l-7.72 7.72c-.78.78-.78 2.05 0 2.83L4 21.41c.39.39.9.59 1.41.59.51 0 1.02-.2 1.41-.59l7.78-7.78 2.81-2.81c.8-.78.8-2.07 0-2.86zM5.41 20L4 18.59l7.72-7.72 1.47 1.35L5.41 20z\"/>\n",
              "  </svg>\n",
              "      </button>\n",
              "      \n",
              "  <style>\n",
              "    .colab-df-container {\n",
              "      display:flex;\n",
              "      flex-wrap:wrap;\n",
              "      gap: 12px;\n",
              "    }\n",
              "\n",
              "    .colab-df-convert {\n",
              "      background-color: #E8F0FE;\n",
              "      border: none;\n",
              "      border-radius: 50%;\n",
              "      cursor: pointer;\n",
              "      display: none;\n",
              "      fill: #1967D2;\n",
              "      height: 32px;\n",
              "      padding: 0 0 0 0;\n",
              "      width: 32px;\n",
              "    }\n",
              "\n",
              "    .colab-df-convert:hover {\n",
              "      background-color: #E2EBFA;\n",
              "      box-shadow: 0px 1px 2px rgba(60, 64, 67, 0.3), 0px 1px 3px 1px rgba(60, 64, 67, 0.15);\n",
              "      fill: #174EA6;\n",
              "    }\n",
              "\n",
              "    [theme=dark] .colab-df-convert {\n",
              "      background-color: #3B4455;\n",
              "      fill: #D2E3FC;\n",
              "    }\n",
              "\n",
              "    [theme=dark] .colab-df-convert:hover {\n",
              "      background-color: #434B5C;\n",
              "      box-shadow: 0px 1px 3px 1px rgba(0, 0, 0, 0.15);\n",
              "      filter: drop-shadow(0px 1px 2px rgba(0, 0, 0, 0.3));\n",
              "      fill: #FFFFFF;\n",
              "    }\n",
              "  </style>\n",
              "\n",
              "      <script>\n",
              "        const buttonEl =\n",
              "          document.querySelector('#df-3145e182-2927-4ccf-93fe-0dca35d91a07 button.colab-df-convert');\n",
              "        buttonEl.style.display =\n",
              "          google.colab.kernel.accessAllowed ? 'block' : 'none';\n",
              "\n",
              "        async function convertToInteractive(key) {\n",
              "          const element = document.querySelector('#df-3145e182-2927-4ccf-93fe-0dca35d91a07');\n",
              "          const dataTable =\n",
              "            await google.colab.kernel.invokeFunction('convertToInteractive',\n",
              "                                                     [key], {});\n",
              "          if (!dataTable) return;\n",
              "\n",
              "          const docLinkHtml = 'Like what you see? Visit the ' +\n",
              "            '<a target=\"_blank\" href=https://colab.research.google.com/notebooks/data_table.ipynb>data table notebook</a>'\n",
              "            + ' to learn more about interactive tables.';\n",
              "          element.innerHTML = '';\n",
              "          dataTable['output_type'] = 'display_data';\n",
              "          await google.colab.output.renderOutput(dataTable, element);\n",
              "          const docLink = document.createElement('div');\n",
              "          docLink.innerHTML = docLinkHtml;\n",
              "          element.appendChild(docLink);\n",
              "        }\n",
              "      </script>\n",
              "    </div>\n",
              "  </div>\n",
              "  "
            ]
          },
          "metadata": {},
          "execution_count": 11
        }
      ]
    },
    {
      "cell_type": "code",
      "source": [
        "y_test_flatten"
      ],
      "metadata": {
        "id": "SEZESjLuS336",
        "colab": {
          "base_uri": "https://localhost:8080/"
        },
        "outputId": "b941e518-a3fd-4605-9d75-db830eeeaebc"
      },
      "execution_count": 12,
      "outputs": [
        {
          "output_type": "execute_result",
          "data": {
            "text/plain": [
              "array([3, 3, 3, ..., 1, 7, 1])"
            ]
          },
          "metadata": {},
          "execution_count": 12
        }
      ]
    },
    {
      "cell_type": "markdown",
      "source": [],
      "metadata": {
        "id": "-bOjNeIVyb0_"
      }
    }
  ]
}